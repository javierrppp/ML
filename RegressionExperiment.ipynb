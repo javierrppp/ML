{
 "cells": [
  {
   "cell_type": "code",
   "execution_count": 1,
   "metadata": {},
   "outputs": [
    {
     "data": {
      "image/png": "[encoded data removed]",
      "text/plain": [
       "<matplotlib.figure.Figure at 0x7f533d18cd30>"
      ]
     },
     "metadata": {},
     "output_type": "display_data"
    }
   ],
   "source": [
    "import numpy as np\n",
    "import matplotlib\n",
    "import matplotlib.pyplot as plt\n",
    "from sklearn.model_selection import train_test_split\n",
    "from sklearn.datasets import load_svmlight_file\n",
    "from numpy import *\n",
    "\n",
    "def GradientDescent(X_data, y_data, learn_rate, iter_times, X_test, y_test):\n",
    "        w = np.zeros((X_data.shape[1] + 1,1))\n",
    "        X_data = np.c_[X_data, ones(X_data.shape[0])]\n",
    "        X_data = matrix(X_data)\n",
    "        y_data = matrix(y_data)\n",
    "        y_data = y_data.T\n",
    "        \n",
    "        X_test = np.c_[X_test, ones(X_test.shape[0])]\n",
    "        y_test = array([list(y_test)])\n",
    "        X_test = matrix(X_test)\n",
    "        y_test = matrix(y_test)\n",
    "        y_test = y_test.T\n",
    "        w = matrix(w)\n",
    "        train_loss = []\n",
    "        test_loss = []\n",
    "        for i in range(iter_times):\n",
    "            w = w + learn_rate*X_data.T*(y_data - X_data * w)\n",
    "            L = ((y_data - X_data * w).T * (y_data - X_data * w))/X_data.shape[0]\n",
    "            train_loss.append(array(L)[0][0])\n",
    "            L2 = ((y_test - X_test * w).T * (y_test - X_test * w))/X_test.shape[0]\n",
    "            test_loss.append(array(L2)[0][0])\n",
    "        return w, train_loss, test_loss\n",
    "\n",
    "    \n",
    "X, y = load_svmlight_file(\"linear_data.txt\")\n",
    "X = np.array(X.todense())\n",
    "X_train, X_test, y_train, y_test = train_test_split(X, y, test_size=0.33, random_state=42)\n",
    "w, train_loss, test_loss = GradientDescent(X_train,y_train,0.0001,500, X_test,y_test)\n",
    "plt.plot(arange(500),train_loss, 'b', label='train_loss')\n",
    "plt.plot(arange(500),test_loss, 'r', label='test_loss')\n",
    "plt.legend(loc='best')\n",
    "plt.show()\n",
    "\n"
   ]
  },
  {
   "cell_type": "code",
   "execution_count": null,
   "metadata": {
    "collapsed": true
   },
   "outputs": [],
   "source": []
  }
 ],
 "metadata": {
  "kernelspec": {
   "display_name": "Python 3",
   "language": "python",
   "name": "python3"
  },
  "language_info": {
   "codemirror_mode": {
    "name": "ipython",
    "version": 3
   },
   "file_extension": ".py",
   "mimetype": "text/x-python",
   "name": "python",
   "nbconvert_exporter": "python",
   "pygments_lexer": "ipython3",
   "version": "3.6.3"
  }
 },
 "nbformat": 4,
 "nbformat_minor": 2
}
